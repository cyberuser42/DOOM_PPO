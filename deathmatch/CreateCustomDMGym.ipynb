{
 "cells": [
  {
   "cell_type": "code",
   "execution_count": 27,
   "metadata": {},
   "outputs": [],
   "source": [
    "import vizdoom as vzd\n",
    "\n",
    "import cv2\n",
    "import random\n",
    "import time \n",
    "import numpy as np\n",
    "\n",
    "from gym import Env \n",
    "from gym.spaces import Discrete, Box\n",
    "\n",
    "from stable_baselines3 import PPO\n",
    "from stable_baselines3.common.evaluation import evaluate_policy\n",
    "from stable_baselines3.common.env_checker import check_env"
   ]
  },
  {
   "cell_type": "code",
   "execution_count": 6,
   "metadata": {},
   "outputs": [],
   "source": [
    "game = vzd.DoomGame()\n",
    "game.load_config(\"deathmatch.cfg\")\n",
    "game.set_window_visible(False)\n",
    "game.init()"
   ]
  },
  {
   "cell_type": "code",
   "execution_count": 17,
   "metadata": {},
   "outputs": [
    {
     "data": {
      "text/plain": [
       "0.0"
      ]
     },
     "execution_count": 17,
     "metadata": {},
     "output_type": "execute_result"
    }
   ],
   "source": [
    "game.make_action([0,0,1,0,0,0], 1)"
   ]
  },
  {
   "cell_type": "code",
   "execution_count": 20,
   "metadata": {},
   "outputs": [
    {
     "data": {
      "text/plain": [
       "7"
      ]
     },
     "execution_count": 20,
     "metadata": {},
     "output_type": "execute_result"
    }
   ],
   "source": [
    "len(game.get_last_action())"
   ]
  },
  {
   "cell_type": "code",
   "execution_count": 24,
   "metadata": {},
   "outputs": [
    {
     "data": {
      "text/plain": [
       "165.3444366455078"
      ]
     },
     "execution_count": 24,
     "metadata": {},
     "output_type": "execute_result"
    }
   ],
   "source": [
    "game.get_game_variable(vzd.GameVariable.POSITION_X)"
   ]
  },
  {
   "cell_type": "code",
   "execution_count": null,
   "metadata": {},
   "outputs": [],
   "source": [
    "game.set_window_visible(False)"
   ]
  },
  {
   "cell_type": "code",
   "execution_count": 25,
   "metadata": {},
   "outputs": [
    {
     "data": {
      "text/plain": [
       "357.0965881347656"
      ]
     },
     "execution_count": 25,
     "metadata": {},
     "output_type": "execute_result"
    }
   ],
   "source": [
    "game.get_game_variable(vzd.GameVariable.POSITION_Y)"
   ]
  },
  {
   "cell_type": "code",
   "execution_count": null,
   "metadata": {},
   "outputs": [],
   "source": [
    "class VizdoomDeathmatchEnv(Env):\n",
    "    def __init__(self):\n",
    "        self.game = vzd.DoomGame()\n",
    "        self.game.load_config(\"path/to/deathmatch_scenario.cfg\")\n",
    "        self.game.set_doom_scenario_path(\"path/to/deathmatch.wad\")\n",
    "        self.game.init()\n",
    "        self.action_space = Discrete(6)\n",
    "    def step(self, action):\n",
    "        actions = np.identity(6)\n",
    "\n",
    "        self.game.make_action(self.actions[action])\n",
    "        self.game.advance_action()\n",
    "        observation = self.game.get_state().screen_buffer\n",
    "        reward = self.game.get_last_reward()\n",
    "        episode_over = self.game.is_episode_finished()\n",
    "        return observation, reward, episode_over, {}\n",
    "    "
   ]
  },
  {
   "cell_type": "code",
   "execution_count": 71,
   "metadata": {},
   "outputs": [],
   "source": [
    "game = DoomGame()\n",
    "game.load_config(\"deathmatch.cfg\")\n",
    "game.set_window_visible(False)\n",
    "game.init()"
   ]
  },
  {
   "cell_type": "code",
   "execution_count": 78,
   "metadata": {},
   "outputs": [
    {
     "data": {
      "text/plain": [
       "(3, 240, 320)"
      ]
     },
     "execution_count": 78,
     "metadata": {},
     "output_type": "execute_result"
    }
   ],
   "source": [
    "game.get_state().screen_buffer.shape"
   ]
  },
  {
   "cell_type": "code",
   "execution_count": 72,
   "metadata": {},
   "outputs": [
    {
     "data": {
      "text/plain": [
       "array([[[ 79, 119, 119, ...,   0,   0,   0],\n",
       "        [147,  95, 131, ...,   0,   0,   0],\n",
       "        [119, 119,  79, ...,   0,   0,   0],\n",
       "        ...,\n",
       "        [ 19,  19,  11, ...,  47,  47,  55],\n",
       "        [ 19,  27,  19, ...,  47,  47,  47],\n",
       "        [ 11,  19,  19, ...,  27,  19,  19]],\n",
       "\n",
       "       [[ 59,  95,  95, ...,   0,   0,   0],\n",
       "        [123,  75, 107, ...,   0,   0,   0],\n",
       "        [ 95,  95,  59, ...,   0,   0,   0],\n",
       "        ...,\n",
       "        [ 19,  19,  11, ...,  47,  47,  55],\n",
       "        [ 19,  27,  19, ...,  47,  47,  47],\n",
       "        [ 11,  19,  19, ...,  27,  19,  19]],\n",
       "\n",
       "       [[ 43,  75,  75, ...,  35,  35,  23],\n",
       "        [ 99,  55,  87, ...,  35,  23,  35],\n",
       "        [ 75,  75,  39, ...,  23,  11,  35],\n",
       "        ...,\n",
       "        [ 19,  19,  11, ...,  47,  47,  55],\n",
       "        [ 19,  27,  19, ...,  47,  47,  47],\n",
       "        [ 11,  19,  19, ...,  27,  19,  19]]], dtype=uint8)"
      ]
     },
     "execution_count": 72,
     "metadata": {},
     "output_type": "execute_result"
    }
   ],
   "source": [
    "game.get_state().screen_buffer"
   ]
  },
  {
   "cell_type": "code",
   "execution_count": 67,
   "metadata": {},
   "outputs": [],
   "source": [
    "import random\n",
    "import time \n",
    "import numpy as np\n",
    "\n",
    "from gym import Env \n",
    "from gym.spaces import Discrete, Box\n",
    "\n",
    "from vizdoom import * \n",
    "from vizdoom.vizdoom import GameVariable\n",
    "\n",
    "AMMO_VARIABLES = [GameVariable.AMMO0, GameVariable.AMMO1, GameVariable.AMMO2, GameVariable.AMMO3, GameVariable.AMMO4, GameVariable.AMMO5, GameVariable.AMMO6, GameVariable.AMMO7, GameVariable.AMMO8, GameVariable.AMMO9]\n",
    "WEAPON_VARIABLES = [GameVariable.WEAPON0, GameVariable.WEAPON1, GameVariable.WEAPON2, GameVariable.WEAPON3, GameVariable.WEAPON4, GameVariable.WEAPON5, GameVariable.WEAPON6, GameVariable.WEAPON7, GameVariable.WEAPON8, GameVariable.WEAPON9]\n",
    "\n",
    "class DoomWithBots(Env):\n",
    "\n",
    "    def __init__(self, render=bool(False), config='deathmatch.cfg', n_bots=8):\n",
    "        # inherit from Gym Env\n",
    "        super().__init__()\n",
    "\n",
    "        # Set up the game\n",
    "        self.game = DoomGame()\n",
    "        self.game.load_config(config)\n",
    "        self.game.add_game_args('-host 1 -deathmatch +viz_nocheat 0 +cl_run 1 +name AGENT +colorset 0' +\n",
    "                    '+sv_forcerespawn 1 +sv_respawnprotect 1 +sv_nocrouch 1 +sv_noexit 1')\n",
    "        if render == True:\n",
    "            self.game.set_window_visible(True)\n",
    "        else:\n",
    "            self.game.set_window_visible(False)\n",
    "        \n",
    "        # Start the game \n",
    "        self.game.init()\n",
    "        \n",
    "        # Create the action space and observation space\n",
    "        self.observation_space = Box(low=0, high=255, shape=(100,160,1), dtype=np.uint8) \n",
    "        self.action_space = Discrete(7)\n",
    "        \n",
    "\n",
    "        # Reset stats and initialize them\n",
    "        self.n_bots = n_bots\n",
    "        self.total_rew = self.last_damage_dealt = self.deaths = self.last_frags = self.last_armor = 0\n",
    "        self.last_health = 100\n",
    "        self.last_x, self.last_y = self.player_position()\n",
    "        self.ammo_state = self.get_ammo_state()\n",
    "        self.weapon_state = self.get_weapon_state()\n",
    "\n",
    "        self.rewards_stats = {\n",
    "            'frag': 0,\n",
    "            'damage': 0,\n",
    "            'ammo': 0,\n",
    "            'health': 0,\n",
    "            'armor': 0,\n",
    "            'distance': 0,\n",
    "        }\n",
    "\n",
    "        # 1 per kill\n",
    "        self.reward_factor_frag = 1.0\n",
    "        self.reward_factor_damage = 0.01\n",
    "\n",
    "        # Player can move at ~16.66 units per tick\n",
    "        self.reward_factor_distance = 0.00005\n",
    "        self.penalty_factor_distance = 0.0025\n",
    "        self.reward_threshold_distance = 3.0\n",
    "\n",
    "        # Pistol clips have 10 bullets\n",
    "        self.reward_factor_ammo_increment = 0.02\n",
    "        self.reward_factor_ammo_decrement = -0.01\n",
    "\n",
    "        # Player starts at 100 health\n",
    "        self.reward_factor_health_increment = 0.02\n",
    "        self.reward_factor_health_decrement = -0.01\n",
    "        self.reward_factor_armor_increment = 0.01\n",
    "\n",
    "        self.game.send_game_command('removebots')\n",
    "        for i in range(self.n_bots):\n",
    "            self.game.send_game_command('addbot')\n",
    "        \n",
    "\n",
    "    def step(self, action, array=False):\n",
    "        # Specify action and take step \n",
    "        actions = np.identity(7)\n",
    "        self.game.make_action(actions[action], 4)\n",
    "        \n",
    "        reward = self.shape_rewards(initial_reward=0)\n",
    "        \n",
    "        self.respawn_if_dead()\n",
    "\n",
    "        # Respawning takes a few ticks and might send us beyond the time limit.\n",
    "        # Episode end needs to be checked last\n",
    "        done = self.game.is_episode_finished()\n",
    "\n",
    "        state = self.game.get_state().screen_buffer\n",
    "        state = self.grayscale(state)\n",
    "        \n",
    "        self.total_rew += reward\n",
    "\n",
    "        return state, reward, done, {'frags': self.last_frags}\n",
    "\n",
    "    def reset(self):\n",
    "        self.print_state()\n",
    "        state = self.game.get_state().screen_buffer\n",
    "        state = self.grayscale(state)\n",
    "\n",
    "        self.last_x, self.last_y = self.player_position()\n",
    "        self.last_health = 100\n",
    "        self.last_armor = self.last_frags = self.total_rew = self.deaths = 0\n",
    "\n",
    "        # Reset reward stats\n",
    "        for k in self.rewards_stats.keys():\n",
    "            self.rewards_stats[k] = 0\n",
    "\n",
    "        self.game.send_game_command('removebots')\n",
    "        for i in range(self.n_bots):\n",
    "            self.game.send_game_command('addbot')\n",
    "\n",
    "        return state\n",
    "\n",
    "    def shape_rewards(self, initial_reward: float):\n",
    "        frag_reward = self.compute_frag_reward()\n",
    "        damage_reward = self.compute_damage_reward()\n",
    "        ammo_reward = self.compute_ammo_reward()\n",
    "        health_reward = self.compute_health_reward()\n",
    "        armor_reward = self.compute_armor_reward()\n",
    "        distance_reward = self.compute_distance_reward(*self.player_position())\n",
    "\n",
    "        return initial_reward + frag_reward + damage_reward + ammo_reward + health_reward + armor_reward + distance_reward\n",
    "\n",
    "    def compute_distance_reward(self, x, y):\n",
    "        dx = self.last_x - x\n",
    "        dy = self.last_y - y\n",
    "\n",
    "        self.last_x = x\n",
    "        self.last_y = y\n",
    "\n",
    "        distance = np.sqrt(dx ** 2 + dy ** 2)\n",
    "        d = distance - self.reward_threshold_distance\n",
    "\n",
    "        if d > 0:\n",
    "            reward = 0.0005 #self.reward_factor_distance * d\n",
    "        else:\n",
    "            reward = -0.0005 #self.penalty_factor_distance * d\n",
    "\n",
    "        self.log_reward_stat('distance', reward)\n",
    "\n",
    "        return reward\n",
    "\n",
    "    def compute_frag_reward(self):\n",
    "        frags = self.game.get_game_variable(GameVariable.FRAGCOUNT)\n",
    "        reward = self.reward_factor_frag * (frags - self.last_frags)\n",
    "\n",
    "        self.last_frags = frags\n",
    "        self.log_reward_stat('frag', reward)\n",
    "\n",
    "        return reward\n",
    "\n",
    "    def compute_damage_reward(self):\n",
    "        damage_dealt = self.game.get_game_variable(GameVariable.DAMAGECOUNT)\n",
    "        reward = self.reward_factor_damage * (damage_dealt - self.last_damage_dealt)\n",
    "\n",
    "        self.last_damage_dealt = damage_dealt\n",
    "        self.log_reward_stat('damage', reward)\n",
    "\n",
    "        return reward\n",
    "\n",
    "    def compute_health_reward(self):\n",
    "        # When player is dead, the health game variable can be -999900\n",
    "        health = max(self.game.get_game_variable(GameVariable.HEALTH), 0)\n",
    "\n",
    "        health_reward = self.reward_factor_health_increment * max(0, health - self.last_health)\n",
    "        health_penalty = self.reward_factor_health_decrement * min(0, health - self.last_health)\n",
    "        reward = health_reward - health_penalty\n",
    "\n",
    "        self.last_health = health\n",
    "        self.log_reward_stat('health', reward)\n",
    "\n",
    "        return reward\n",
    "\n",
    "    def compute_armor_reward(self):\n",
    "        armor = self.game.get_game_variable(GameVariable.ARMOR)\n",
    "        reward = self.reward_factor_armor_increment * max(0, armor - self.last_armor)\n",
    "        self.last_armor = armor\n",
    "        self.log_reward_stat('armor', reward)\n",
    "\n",
    "        return reward\n",
    "\n",
    "    def compute_ammo_reward(self):\n",
    "        self.weapon_state = self.get_weapon_state()\n",
    "\n",
    "        new_ammo_state = self.get_ammo_state()\n",
    "        ammo_diffs = (new_ammo_state - self.ammo_state) * self.weapon_state\n",
    "        ammo_reward = self.reward_factor_ammo_increment * max(0, np.sum(ammo_diffs))\n",
    "        ammo_penalty = self.reward_factor_ammo_decrement * min(0, np.sum(ammo_diffs))\n",
    "        reward = ammo_reward - ammo_penalty\n",
    "        self.ammo_state = new_ammo_state\n",
    "        self.log_reward_stat('ammo', reward)\n",
    "\n",
    "        return reward\n",
    "\n",
    "    def player_position(self):\n",
    "        return self.game.get_game_variable(GameVariable.POSITION_X), self.game.get_game_variable(\n",
    "            GameVariable.POSITION_Y)\n",
    "\n",
    "    def get_ammo_state(self):\n",
    "        ammo_state = np.zeros(10)\n",
    "\n",
    "        for i in range(10):\n",
    "            ammo_state[i] = self.game.get_game_variable(AMMO_VARIABLES[i])\n",
    "\n",
    "        return ammo_state\n",
    "\n",
    "    def get_weapon_state(self):\n",
    "        # ten unique weapons\n",
    "        weapon_state = np.zeros(10)\n",
    "\n",
    "        for i in range(10):\n",
    "            weapon_state[i] = self.game.get_game_variable(WEAPON_VARIABLES[i])\n",
    "\n",
    "        return weapon_state\n",
    "\n",
    "    def log_reward_stat(self, kind: str, reward: float):\n",
    "        self.rewards_stats[kind] += reward\n",
    "\n",
    "    def reset_player(self):\n",
    "        self.last_health = 100\n",
    "        self.last_armor = 0\n",
    "        self.game.respawn_player()\n",
    "        self.last_x, self.last_y = self.player_position()\n",
    "        self.ammo_state = self.get_ammo_state()\n",
    "\n",
    "    def auto_change_weapon(self):\n",
    "        # Change weapons to one with ammo\n",
    "        possible_weapons = np.flatnonzero(self.ammo_state * self.weapon_state)\n",
    "        possible_weapon = possible_weapons[-1] if len(possible_weapons) > 0 else None\n",
    "\n",
    "        current_selection = self.game.get_game_variable(GameVariable.SELECTED_WEAPON)\n",
    "        new_selection = possible_weapon if possible_weapon != current_selection else None\n",
    "\n",
    "        return new_selection\n",
    "\n",
    "    def respawn_if_dead(self):\n",
    "        if not self.game.is_episode_finished():\n",
    "            # Check if player is dead\n",
    "            if self.game.is_player_dead():\n",
    "                self.deaths += 1\n",
    "                self.reset_player()\n",
    "\n",
    "    def print_state(self):\n",
    "        server_state = self.game.get_server_state()\n",
    "        player_scores = list(zip(\n",
    "            server_state.players_names,\n",
    "            server_state.players_frags,\n",
    "            server_state.players_in_game))\n",
    "        player_scores = sorted(player_scores, key=lambda tup: tup[1])\n",
    "\n",
    "        print('*** DEATHMATCH RESULTS ***')\n",
    "        for player_name, player_score, player_ingame in player_scores:\n",
    "            if player_ingame:\n",
    "                print(f' - {player_name}: {player_score}')\n",
    "\n",
    "    def grayscale(self, observation):\n",
    "        gray = cv2.cvtColor(np.moveaxis(observation, 0, -1), cv2.COLOR_BGR2GRAY)\n",
    "        resize = cv2.resize(gray, (160,100), interpolation=cv2.INTER_CUBIC)\n",
    "        state = np.reshape(resize, (100,160,1))\n",
    "        return state\n",
    "    \n",
    "    # Call to close down the game\n",
    "    def close(self): \n",
    "        self.game.close()"
   ]
  },
  {
   "cell_type": "code",
   "execution_count": 57,
   "metadata": {},
   "outputs": [],
   "source": [
    "env = DoomWithBots(render=True)"
   ]
  },
  {
   "cell_type": "code",
   "execution_count": 66,
   "metadata": {},
   "outputs": [
    {
     "ename": "TypeError",
     "evalue": "set_window_visible(): incompatible function arguments. The following argument types are supported:\n    1. (self: vizdoom.vizdoom.DoomGame, arg0: bool) -> None\n\nInvoked with: <vizdoom.vizdoom.DoomGame object at 0x17b286db0>, <class 'gym.core.Env'>",
     "output_type": "error",
     "traceback": [
      "\u001b[0;31m---------------------------------------------------------------------------\u001b[0m",
      "\u001b[0;31mTypeError\u001b[0m                                 Traceback (most recent call last)",
      "Cell \u001b[0;32mIn[66], line 1\u001b[0m\n\u001b[0;32m----> 1\u001b[0m check_env(DoomWithBots(Env))\n",
      "Cell \u001b[0;32mIn[56], line 25\u001b[0m, in \u001b[0;36mDoomWithBots.__init__\u001b[0;34m(self, render, config, n_bots)\u001b[0m\n\u001b[1;32m     23\u001b[0m \u001b[39mself\u001b[39m\u001b[39m.\u001b[39mgame \u001b[39m=\u001b[39m DoomGame()\n\u001b[1;32m     24\u001b[0m \u001b[39mself\u001b[39m\u001b[39m.\u001b[39mgame\u001b[39m.\u001b[39mload_config(config)\n\u001b[0;32m---> 25\u001b[0m \u001b[39mself\u001b[39;49m\u001b[39m.\u001b[39;49mgame\u001b[39m.\u001b[39;49mset_window_visible(render)\n\u001b[1;32m     27\u001b[0m \u001b[39m# Start the game \u001b[39;00m\n\u001b[1;32m     28\u001b[0m \u001b[39mself\u001b[39m\u001b[39m.\u001b[39mgame\u001b[39m.\u001b[39minit()\n",
      "\u001b[0;31mTypeError\u001b[0m: set_window_visible(): incompatible function arguments. The following argument types are supported:\n    1. (self: vizdoom.vizdoom.DoomGame, arg0: bool) -> None\n\nInvoked with: <vizdoom.vizdoom.DoomGame object at 0x17b286db0>, <class 'gym.core.Env'>"
     ]
    }
   ],
   "source": [
    "check_env(DoomWithBots(Env))"
   ]
  },
  {
   "cell_type": "code",
   "execution_count": 68,
   "metadata": {},
   "outputs": [],
   "source": [
    "from TrainAndLoggingCallback import *"
   ]
  },
  {
   "cell_type": "code",
   "execution_count": null,
   "metadata": {},
   "outputs": [],
   "source": []
  }
 ],
 "metadata": {
  "kernelspec": {
   "display_name": "vizdoom",
   "language": "python",
   "name": "python3"
  },
  "language_info": {
   "codemirror_mode": {
    "name": "ipython",
    "version": 3
   },
   "file_extension": ".py",
   "mimetype": "text/x-python",
   "name": "python",
   "nbconvert_exporter": "python",
   "pygments_lexer": "ipython3",
   "version": "3.10.8"
  },
  "orig_nbformat": 4,
  "vscode": {
   "interpreter": {
    "hash": "6749a172b7ea0e1d631e5a8659e6491c2bcc1d4c4ce575d079fb3bbcfc596a6b"
   }
  }
 },
 "nbformat": 4,
 "nbformat_minor": 2
}
