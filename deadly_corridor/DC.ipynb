{
 "cells": [
  {
   "cell_type": "code",
   "execution_count": 1,
   "metadata": {},
   "outputs": [
    {
     "name": "stdout",
     "output_type": "stream",
     "text": [
      "Built action space of size 18 from buttons [<Button.ATTACK: 0> <Button.MOVE_FORWARD: 13> <Button.MOVE_LEFT: 11>\n",
      " <Button.MOVE_RIGHT: 10> <Button.TURN_LEFT: 15> <Button.TURN_RIGHT: 14>]\n"
     ]
    },
    {
     "data": {
      "text/plain": [
       "[[0.0, 0.0, 0.0, 0.0, 0.0, 1.0],\n",
       " [0.0, 0.0, 0.0, 0.0, 1.0, 0.0],\n",
       " [0.0, 0.0, 0.0, 1.0, 0.0, 0.0],\n",
       " [0.0, 0.0, 0.0, 1.0, 0.0, 1.0],\n",
       " [0.0, 0.0, 0.0, 1.0, 1.0, 0.0],\n",
       " [0.0, 0.0, 1.0, 0.0, 0.0, 0.0],\n",
       " [0.0, 0.0, 1.0, 0.0, 0.0, 1.0],\n",
       " [0.0, 0.0, 1.0, 0.0, 1.0, 0.0],\n",
       " [0.0, 1.0, 0.0, 0.0, 0.0, 0.0],\n",
       " [0.0, 1.0, 0.0, 0.0, 0.0, 1.0],\n",
       " [0.0, 1.0, 0.0, 0.0, 1.0, 0.0],\n",
       " [0.0, 1.0, 0.0, 1.0, 0.0, 0.0],\n",
       " [0.0, 1.0, 0.0, 1.0, 0.0, 1.0],\n",
       " [0.0, 1.0, 0.0, 1.0, 1.0, 0.0],\n",
       " [0.0, 1.0, 1.0, 0.0, 0.0, 0.0],\n",
       " [0.0, 1.0, 1.0, 0.0, 0.0, 1.0],\n",
       " [0.0, 1.0, 1.0, 0.0, 1.0, 0.0],\n",
       " [1.0, 0.0, 0.0, 0.0, 0.0, 0.0]]"
      ]
     },
     "execution_count": 1,
     "metadata": {},
     "output_type": "execute_result"
    }
   ],
   "source": [
    "import numpy as np\n",
    "import itertools\n",
    "import typing as t\n",
    "\n",
    "from vizdoom import Button\n",
    "\n",
    "\n",
    "# Buttons that cannot be used together\n",
    "MUTUALLY_EXCLUSIVE_GROUPS = [\n",
    "    [Button.MOVE_RIGHT, Button.MOVE_LEFT],\n",
    "    [Button.TURN_RIGHT, Button.TURN_LEFT],\n",
    "    [Button.MOVE_FORWARD, Button.MOVE_BACKWARD],\n",
    "]\n",
    "\n",
    "# Buttons that can only be used alone.\n",
    "EXCLUSIVE_BUTTONS = [Button.ATTACK]\n",
    "\n",
    "\n",
    "def has_exclusive_button(actions: np.ndarray, buttons: np.array) -> np.array:\n",
    "    exclusion_mask = np.isin(buttons, EXCLUSIVE_BUTTONS)\n",
    "    \n",
    "    # Flag actions that have more than 1 active button among exclusive list.\n",
    "    return (np.any(actions.astype(bool) & exclusion_mask, axis=-1)) & (np.sum(actions, axis=-1) > 1)\n",
    "\n",
    "\n",
    "def has_excluded_pair(actions: np.ndarray, buttons: np.array) -> np.array:\n",
    "    # Create mask of shape (n_mutual_exclusion_groups, n_available_buttons), marking location of excluded pairs.\n",
    "    mutual_exclusion_mask = np.array([np.isin(buttons, excluded_group) \n",
    "                                      for excluded_group in MUTUALLY_EXCLUSIVE_GROUPS])\n",
    "\n",
    "    # Flag actions that have more than 1 button active in any of the mutual exclusion groups.\n",
    "    return np.any(np.sum(\n",
    "        # Resulting shape (n_actions, n_mutual_exclusion_groups, n_available_buttons)\n",
    "        (actions[:, np.newaxis, :] * mutual_exclusion_mask.astype(int)),\n",
    "        axis=-1) > 1, axis=-1)\n",
    "\n",
    "\n",
    "def get_available_actions(buttons: np.array) -> t.List[t.List[float]]:\n",
    "    # Create list of all possible actions of size (2^n_available_buttons x n_available_buttons)\n",
    "    action_combinations = np.array([list(seq) for seq in itertools.product([0., 1.], repeat=len(buttons))])\n",
    "\n",
    "    # Build action mask from action combinations and exclusion mask\n",
    "    illegal_mask = (has_excluded_pair(action_combinations, buttons)\n",
    "                    | has_exclusive_button(action_combinations, buttons))\n",
    "\n",
    "    possible_actions = action_combinations[~illegal_mask]\n",
    "    possible_actions = possible_actions[np.sum(possible_actions, axis=1) > 0]  # Remove no-op\n",
    "\n",
    "    print('Built action space of size {} from buttons {}'.format(len(possible_actions), buttons))\n",
    "    return possible_actions.tolist()\n",
    "\n",
    "possible_actions = get_available_actions(np.array([\n",
    "    Button.ATTACK, Button.MOVE_FORWARD, Button.MOVE_LEFT, \n",
    "    Button.MOVE_RIGHT, Button.TURN_LEFT, Button.TURN_RIGHT]))\n",
    "\n",
    "possible_actions"
   ]
  },
  {
   "cell_type": "code",
   "execution_count": 12,
   "metadata": {},
   "outputs": [
    {
     "ename": "NameError",
     "evalue": "name 'env' is not defined",
     "output_type": "error",
     "traceback": [
      "\u001b[0;31m---------------------------------------------------------------------------\u001b[0m",
      "\u001b[0;31mNameError\u001b[0m                                 Traceback (most recent call last)",
      "Cell \u001b[0;32mIn[12], line 11\u001b[0m\n\u001b[1;32m      1\u001b[0m \u001b[39mdef\u001b[39;00m \u001b[39mcreate_agent\u001b[39m(env, \u001b[39m*\u001b[39m\u001b[39m*\u001b[39mkwargs):\n\u001b[1;32m      2\u001b[0m     \u001b[39mreturn\u001b[39;00m ppo\u001b[39m.\u001b[39mPPO(policy\u001b[39m=\u001b[39mpolicies\u001b[39m.\u001b[39mActorCriticCnnPolicy,\n\u001b[1;32m      3\u001b[0m                    env\u001b[39m=\u001b[39menv,\n\u001b[1;32m      4\u001b[0m                    n_steps\u001b[39m=\u001b[39m\u001b[39m4096\u001b[39m,\n\u001b[0;32m   (...)\u001b[0m\n\u001b[1;32m      8\u001b[0m                    seed\u001b[39m=\u001b[39m\u001b[39m0\u001b[39m,\n\u001b[1;32m      9\u001b[0m                    \u001b[39m*\u001b[39m\u001b[39m*\u001b[39mkwargs)\n\u001b[0;32m---> 11\u001b[0m agent \u001b[39m=\u001b[39m create_agent(env)\n\u001b[1;32m     12\u001b[0m agent\u001b[39m.\u001b[39mpolicy\n",
      "\u001b[0;31mNameError\u001b[0m: name 'env' is not defined"
     ]
    }
   ],
   "source": [
    "import stable_baselines3\n",
    "from stable_baselines3.common import policies\n",
    "from stable_baselines3.common.env_util import make_vec_env\n",
    "from stable_baselines3.common.vec_env import VecFrameStack\n",
    "from stable_baselines3 import PPO\n",
    "from stable_baselines3.ppo import ppo\n",
    "\n",
    "\n",
    "\n",
    "def create_agent(env, **kwargs):\n",
    "    return ppo.PPO(policy=policies.ActorCriticCnnPolicy,\n",
    "                   env=env,\n",
    "                   n_steps=4096,\n",
    "                   batch_size=32,\n",
    "                   learning_rate=1e-4,\n",
    "                   verbose=0,\n",
    "                   seed=0,\n",
    "                   **kwargs)\n",
    "\n",
    "agent = create_agent(env)\n",
    "agent.policy"
   ]
  },
  {
   "cell_type": "code",
   "execution_count": 6,
   "metadata": {},
   "outputs": [
    {
     "name": "stderr",
     "output_type": "stream",
     "text": [
      "/var/folders/l0/vgj9vj5j1lsdrt29r1bn4zc80000gn/T/ipykernel_86628/951932614.py:23: DeprecationWarning: elementwise comparison failed; this will raise an error in the future.\n",
      "  button_index = np.argwhere(buttons == button)[0][0]\n"
     ]
    },
    {
     "ename": "IndexError",
     "evalue": "index 0 is out of bounds for axis 0 with size 0",
     "output_type": "error",
     "traceback": [
      "\u001b[0;31m---------------------------------------------------------------------------\u001b[0m",
      "\u001b[0;31mIndexError\u001b[0m                                Traceback (most recent call last)",
      "Cell \u001b[0;32mIn[6], line 34\u001b[0m\n\u001b[1;32m     29\u001b[0m     \u001b[39mprint\u001b[39m(\u001b[39m'\u001b[39m\u001b[39mBuilt action space of size \u001b[39m\u001b[39m{}\u001b[39;00m\u001b[39m from buttons \u001b[39m\u001b[39m{}\u001b[39;00m\u001b[39m'\u001b[39m\u001b[39m.\u001b[39mformat(\u001b[39mlen\u001b[39m(action_combinations), buttons))\n\u001b[1;32m     30\u001b[0m     \u001b[39mreturn\u001b[39;00m action_combinations\u001b[39m.\u001b[39mtolist()\n\u001b[0;32m---> 34\u001b[0m possible_actions \u001b[39m=\u001b[39m get_available_actions(np\u001b[39m.\u001b[39;49marray([\n\u001b[1;32m     35\u001b[0m     Button\u001b[39m.\u001b[39;49mATTACK, Button\u001b[39m.\u001b[39;49mMOVE_FORWARD, Button\u001b[39m.\u001b[39;49mMOVE_LEFT, \n\u001b[1;32m     36\u001b[0m     Button\u001b[39m.\u001b[39;49mMOVE_RIGHT, Button\u001b[39m.\u001b[39;49mTURN_LEFT, Button\u001b[39m.\u001b[39;49mTURN_RIGHT]))\n\u001b[1;32m     38\u001b[0m possible_actions\n",
      "Cell \u001b[0;32mIn[6], line 23\u001b[0m, in \u001b[0;36mget_available_actions\u001b[0;34m(buttons)\u001b[0m\n\u001b[1;32m     21\u001b[0m \u001b[39mfor\u001b[39;00m group \u001b[39min\u001b[39;00m [MUTUALLY_EXCLUSIVE_GROUPS, EXCLUSIVE_BUTTONS]:\n\u001b[1;32m     22\u001b[0m     \u001b[39mfor\u001b[39;00m button \u001b[39min\u001b[39;00m group:\n\u001b[0;32m---> 23\u001b[0m         button_index \u001b[39m=\u001b[39m np\u001b[39m.\u001b[39;49margwhere(buttons \u001b[39m==\u001b[39;49m button)[\u001b[39m0\u001b[39;49m][\u001b[39m0\u001b[39m]\n\u001b[1;32m     24\u001b[0m         action_combinations \u001b[39m=\u001b[39m action_combinations[np\u001b[39m.\u001b[39msum(action_combinations[:, button_index], axis\u001b[39m=\u001b[39m\u001b[39m1\u001b[39m) \u001b[39m<\u001b[39m\u001b[39m=\u001b[39m \u001b[39m1\u001b[39m]\n\u001b[1;32m     26\u001b[0m \u001b[39m# Remove no-op actions\u001b[39;00m\n",
      "\u001b[0;31mIndexError\u001b[0m: index 0 is out of bounds for axis 0 with size 0"
     ]
    }
   ],
   "source": [
    "import numpy as np\n",
    "import itertools\n",
    "\n",
    "from vizdoom import Button\n",
    "\n",
    "# Buttons that cannot be used together\n",
    "MUTUALLY_EXCLUSIVE_GROUPS = [\n",
    "    [Button.MOVE_RIGHT, Button.MOVE_LEFT],\n",
    "    [Button.TURN_RIGHT, Button.TURN_LEFT],\n",
    "    [Button.MOVE_FORWARD, Button.MOVE_BACKWARD],\n",
    "]\n",
    "\n",
    "# Buttons that can only be used alone.\n",
    "EXCLUSIVE_BUTTONS = [Button.ATTACK]\n",
    "\n",
    "def get_available_actions(buttons: np.array) -> list:\n",
    "    # Create list of all possible actions of size (2^n_available_buttons x n_available_buttons)\n",
    "    action_combinations = np.array([list(seq) for seq in itertools.product([0, 1], repeat=len(buttons))])\n",
    "\n",
    "    # Remove mutually exclusive and exclusive buttons\n",
    "    for group in [MUTUALLY_EXCLUSIVE_GROUPS, EXCLUSIVE_BUTTONS]:\n",
    "        for button in group:\n",
    "            button_index = np.argwhere(buttons == button)[0][0]\n",
    "            action_combinations = action_combinations[np.sum(action_combinations[:, button_index], axis=1) <= 1]\n",
    "\n",
    "    # Remove no-op actions\n",
    "    action_combinations = action_combinations[np.sum(action_combinations, axis=1) > 0]\n",
    "\n",
    "    print('Built action space of size {} from buttons {}'.format(len(action_combinations), buttons))\n",
    "    return action_combinations.tolist()\n",
    "\n",
    "\n",
    "\n",
    "possible_actions = get_available_actions(np.array([\n",
    "    Button.ATTACK, Button.MOVE_FORWARD, Button.MOVE_LEFT, \n",
    "    Button.MOVE_RIGHT, Button.TURN_LEFT, Button.TURN_RIGHT]))\n",
    "\n",
    "possible_actions"
   ]
  },
  {
   "cell_type": "code",
   "execution_count": 10,
   "metadata": {},
   "outputs": [
    {
     "name": "stderr",
     "output_type": "stream",
     "text": [
      "/var/folders/l0/vgj9vj5j1lsdrt29r1bn4zc80000gn/T/ipykernel_86628/366644.py:18: DeprecationWarning: elementwise comparison failed; this will raise an error in the future.\n",
      "  if button in buttons:\n"
     ]
    },
    {
     "ename": "IndexError",
     "evalue": "boolean index did not match indexed array along dimension 1; dimension is 64 but corresponding boolean dimension is 6",
     "output_type": "error",
     "traceback": [
      "\u001b[0;31m---------------------------------------------------------------------------\u001b[0m",
      "\u001b[0;31mIndexError\u001b[0m                                Traceback (most recent call last)",
      "Cell \u001b[0;32mIn[10], line 30\u001b[0m\n\u001b[1;32m     25\u001b[0m     \u001b[39mprint\u001b[39m(\u001b[39m'\u001b[39m\u001b[39mBuilt action space of size \u001b[39m\u001b[39m{}\u001b[39;00m\u001b[39m from buttons \u001b[39m\u001b[39m{}\u001b[39;00m\u001b[39m'\u001b[39m\u001b[39m.\u001b[39mformat(\u001b[39mlen\u001b[39m(action_combinations), buttons))\n\u001b[1;32m     26\u001b[0m     \u001b[39mreturn\u001b[39;00m action_combinations\u001b[39m.\u001b[39mtolist()\n\u001b[0;32m---> 30\u001b[0m possible_actions \u001b[39m=\u001b[39m get_available_actions(np\u001b[39m.\u001b[39;49marray([\n\u001b[1;32m     31\u001b[0m     Button\u001b[39m.\u001b[39;49mATTACK, Button\u001b[39m.\u001b[39;49mMOVE_FORWARD, Button\u001b[39m.\u001b[39;49mMOVE_LEFT, \n\u001b[1;32m     32\u001b[0m     Button\u001b[39m.\u001b[39;49mMOVE_RIGHT, Button\u001b[39m.\u001b[39;49mTURN_LEFT, Button\u001b[39m.\u001b[39;49mTURN_RIGHT]))\n\u001b[1;32m     34\u001b[0m possible_actions\n",
      "Cell \u001b[0;32mIn[10], line 23\u001b[0m, in \u001b[0;36mget_available_actions\u001b[0;34m(buttons)\u001b[0m\n\u001b[1;32m     20\u001b[0m             action_combinations \u001b[39m=\u001b[39m action_combinations[np\u001b[39m.\u001b[39msum(action_combinations[:, button_index], axis\u001b[39m=\u001b[39m\u001b[39m0\u001b[39m) \u001b[39m<\u001b[39m\u001b[39m=\u001b[39m \u001b[39m1\u001b[39m]\n\u001b[1;32m     22\u001b[0m \u001b[39m# Remove no-op actions\u001b[39;00m\n\u001b[0;32m---> 23\u001b[0m action_combinations \u001b[39m=\u001b[39m action_combinations[np\u001b[39m.\u001b[39;49msum(action_combinations, axis\u001b[39m=\u001b[39;49m\u001b[39m1\u001b[39;49m) \u001b[39m>\u001b[39;49m \u001b[39m0\u001b[39;49m]\n\u001b[1;32m     25\u001b[0m \u001b[39mprint\u001b[39m(\u001b[39m'\u001b[39m\u001b[39mBuilt action space of size \u001b[39m\u001b[39m{}\u001b[39;00m\u001b[39m from buttons \u001b[39m\u001b[39m{}\u001b[39;00m\u001b[39m'\u001b[39m\u001b[39m.\u001b[39mformat(\u001b[39mlen\u001b[39m(action_combinations), buttons))\n\u001b[1;32m     26\u001b[0m \u001b[39mreturn\u001b[39;00m action_combinations\u001b[39m.\u001b[39mtolist()\n",
      "\u001b[0;31mIndexError\u001b[0m: boolean index did not match indexed array along dimension 1; dimension is 64 but corresponding boolean dimension is 6"
     ]
    }
   ],
   "source": [
    "\n",
    "# Buttons that cannot be used together\n",
    "MUTUALLY_EXCLUSIVE_GROUPS = [\n",
    "    [Button.MOVE_RIGHT, Button.MOVE_LEFT],\n",
    "    [Button.TURN_RIGHT, Button.TURN_LEFT],\n",
    "    [Button.MOVE_FORWARD, Button.MOVE_BACKWARD],\n",
    "]\n",
    "\n",
    "# Buttons that can only be used alone.\n",
    "EXCLUSIVE_BUTTONS = [Button.ATTACK]\n",
    "\n",
    "def get_available_actions(buttons: np.array) -> list:\n",
    "    # Create list of all possible actions of size (2^n_available_buttons x n_available_buttons)\n",
    "    action_combinations = np.array([list(seq) for seq in itertools.product([0, 1], repeat=len(buttons))])\n",
    "\n",
    "    # Remove mutually exclusive and exclusive buttons\n",
    "    for group in [MUTUALLY_EXCLUSIVE_GROUPS, EXCLUSIVE_BUTTONS]:\n",
    "        for button in group:\n",
    "            if button in buttons:\n",
    "                button_index = np.argwhere(buttons == button)[0][0]\n",
    "                action_combinations = action_combinations[np.sum(action_combinations[:, button_index], axis=0) <= 1]\n",
    "\n",
    "    # Remove no-op actions\n",
    "    action_combinations = action_combinations[np.sum(action_combinations, axis=1) > 0]\n",
    "\n",
    "    print('Built action space of size {} from buttons {}'.format(len(action_combinations), buttons))\n",
    "    return action_combinations.tolist()\n",
    "\n",
    "\n",
    "\n",
    "possible_actions = get_available_actions(np.array([\n",
    "    Button.ATTACK, Button.MOVE_FORWARD, Button.MOVE_LEFT, \n",
    "    Button.MOVE_RIGHT, Button.TURN_LEFT, Button.TURN_RIGHT]))\n",
    "\n",
    "possible_actions"
   ]
  }
 ],
 "metadata": {
  "kernelspec": {
   "display_name": "vizdoom",
   "language": "python",
   "name": "python3"
  },
  "language_info": {
   "codemirror_mode": {
    "name": "ipython",
    "version": 3
   },
   "file_extension": ".py",
   "mimetype": "text/x-python",
   "name": "python",
   "nbconvert_exporter": "python",
   "pygments_lexer": "ipython3",
   "version": "3.10.8"
  },
  "orig_nbformat": 4,
  "vscode": {
   "interpreter": {
    "hash": "6749a172b7ea0e1d631e5a8659e6491c2bcc1d4c4ce575d079fb3bbcfc596a6b"
   }
  }
 },
 "nbformat": 4,
 "nbformat_minor": 2
}
